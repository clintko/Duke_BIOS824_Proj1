{
 "cells": [
  {
   "cell_type": "code",
   "execution_count": 1,
   "metadata": {},
   "outputs": [],
   "source": [
    "##############################################################\n",
    "import numpy as np\n",
    "import pandas as pd\n",
    "import os, re\n",
    "import matplotlib.pyplot as plt\n",
    "\n",
    "##############################################################\n",
    "def get_fname(patient, is_mask = False):\n",
    "    fpath = os.path.join(FP_LGG, patient)\n",
    "    if is_mask:\n",
    "        pattern = \"_([^_]*)_mask.tif$\"\n",
    "        fname = np.array([x for x in os.listdir(fpath) if \"mask\" in x])\n",
    "    else:\n",
    "        pattern = \"_([^_]*).tif$\"\n",
    "        fname = np.array([x for x in os.listdir(fpath) if \"mask\" not in x])\n",
    "    index = np.array([int(re.findall(pattern, x)[0]) for x in fname])\n",
    "    idx = np.argsort(index)\n",
    "    return fname[idx]\n",
    "\n",
    "##############################################################\n",
    "FP_LGG = \"/data/Duke_BIOS824/LGG-segmentation/\"\n",
    "patients = [x for x in os.listdir(FP_LGG) if \"TCGA\" in x]    \n",
    "\n",
    "##############################################################\n",
    "img_slice, img_mask = dict(), dict()\n",
    "\n",
    "for patient in patients:\n",
    "    lst = get_fname(patient, is_mask = True)\n",
    "    img = [plt.imread(os.path.join(FP_LGG, patient, fname)) for fname in lst]\n",
    "    img_mask[patient]  = np.array(img)"
   ]
  },
  {
   "cell_type": "code",
   "execution_count": null,
   "metadata": {},
   "outputs": [],
   "source": []
  },
  {
   "cell_type": "code",
   "execution_count": 2,
   "metadata": {},
   "outputs": [
    {
     "data": {
      "image/png": "[encoded data removed]",
      "text/plain": [
       "<Figure size 576x864 with 24 Axes>"
      ]
     },
     "metadata": {},
     "output_type": "display_data"
    }
   ],
   "source": [
    "##############################################################\n",
    "fig, axes = plt.subplots(ncols=4, nrows=6, figsize = (2*4, 2*6))\n",
    "axes = axes.ravel()\n",
    "\n",
    "patient = 'TCGA_CS_4941_19960909'\n",
    "mask    = img_mask[patient]\n",
    "num_img = mask.shape[0]\n",
    "\n",
    "for idx in range(num_img):\n",
    "    axes[idx].imshow(mask[idx], cmap = \"gray\")\n",
    "\n",
    "plt.setp(plt.gcf().get_axes(), xticks=[], yticks=[])\n",
    "plt.show()"
   ]
  },
  {
   "cell_type": "code",
   "execution_count": 3,
   "metadata": {},
   "outputs": [
    {
     "data": {
      "image/png": "[encoded data removed]",
      "text/plain": [
       "<Figure size 576x864 with 24 Axes>"
      ]
     },
     "metadata": {},
     "output_type": "display_data"
    }
   ],
   "source": [
    "##############################################################\n",
    "fig, axes = plt.subplots(ncols=4, nrows=6, figsize = (2*4, 2*6))\n",
    "axes = axes.ravel()\n",
    "\n",
    "patient = patients[1]\n",
    "mask    = img_mask[patient]\n",
    "num_img = mask.shape[0]\n",
    "\n",
    "for idx in range(num_img):\n",
    "    axes[idx].imshow(mask[idx], cmap = \"gray\")\n",
    "\n",
    "plt.setp(plt.gcf().get_axes(), xticks=[], yticks=[])\n",
    "plt.show()"
   ]
  },
  {
   "cell_type": "code",
   "execution_count": null,
   "metadata": {},
   "outputs": [],
   "source": []
  },
  {
   "cell_type": "code",
   "execution_count": 4,
   "metadata": {},
   "outputs": [
    {
     "name": "stdout",
     "output_type": "stream",
     "text": [
      "TCGA_CS_4941_19960909\n",
      "TCGA_CS_4942_19970222\n",
      "TCGA_CS_4943_20000902\n",
      "TCGA_CS_4944_20010208\n",
      "TCGA_CS_5393_19990606\n",
      "TCGA_CS_5395_19981004\n",
      "TCGA_CS_5396_20010302\n",
      "TCGA_CS_5397_20010315\n",
      "TCGA_CS_6186_20000601\n",
      "TCGA_CS_6188_20010812\n",
      "TCGA_CS_6290_20000917\n",
      "TCGA_CS_6665_20010817\n",
      "TCGA_CS_6666_20011109\n",
      "TCGA_CS_6668_20011025\n",
      "TCGA_CS_6669_20020102\n",
      "TCGA_DU_5849_19950405\n",
      "TCGA_DU_5851_19950428\n",
      "TCGA_DU_5852_19950709\n",
      "TCGA_DU_5853_19950823\n",
      "TCGA_DU_5854_19951104\n",
      "TCGA_DU_5855_19951217\n",
      "TCGA_DU_5871_19941206\n",
      "TCGA_DU_5872_19950223\n",
      "TCGA_DU_5874_19950510\n",
      "TCGA_DU_6399_19830416\n",
      "TCGA_DU_6400_19830518\n",
      "TCGA_DU_6401_19831001\n",
      "TCGA_DU_6404_19850629\n",
      "TCGA_DU_6407_19860514\n",
      "TCGA_DU_6408_19860521\n",
      "TCGA_DU_7008_19830723\n",
      "TCGA_DU_7010_19860307\n",
      "TCGA_DU_7013_19860523\n",
      "TCGA_DU_7014_19860618\n",
      "TCGA_DU_7018_19911220\n",
      "TCGA_DU_7019_19940908\n",
      "TCGA_DU_7294_19890104\n",
      "TCGA_DU_7298_19910324\n",
      "TCGA_DU_7299_19910417\n",
      "TCGA_DU_7300_19910814\n",
      "TCGA_DU_7301_19911112\n",
      "TCGA_DU_7302_19911203\n",
      "TCGA_DU_7304_19930325\n",
      "TCGA_DU_7309_19960831\n",
      "TCGA_DU_8162_19961029\n",
      "TCGA_DU_8163_19961119\n",
      "TCGA_DU_8164_19970111\n",
      "TCGA_DU_8165_19970205\n",
      "TCGA_DU_8166_19970322\n",
      "TCGA_DU_8167_19970402\n",
      "TCGA_DU_8168_19970503\n",
      "TCGA_DU_A5TP_19970614\n",
      "TCGA_DU_A5TR_19970726\n",
      "TCGA_DU_A5TS_19970726\n",
      "TCGA_DU_A5TT_19980318\n",
      "TCGA_DU_A5TU_19980312\n",
      "TCGA_DU_A5TW_19980228\n",
      "TCGA_DU_A5TY_19970709\n",
      "TCGA_CS_6667_20011105\n",
      "TCGA_DU_6405_19851005\n",
      "TCGA_DU_7306_19930512\n",
      "TCGA_EZ_7264_20010816\n",
      "TCGA_HT_7475_19970918\n",
      "TCGA_HT_7877_19980917\n",
      "TCGA_FG_5962_20000626\n",
      "TCGA_FG_5964_20010511\n",
      "TCGA_FG_6688_20020215\n",
      "TCGA_FG_6689_20020326\n",
      "TCGA_FG_6690_20020226\n",
      "TCGA_FG_6691_20020405\n",
      "TCGA_FG_6692_20020606\n",
      "TCGA_FG_7634_20000128\n",
      "TCGA_FG_7637_20000922\n",
      "TCGA_FG_7643_20021104\n",
      "TCGA_FG_8189_20030516\n",
      "TCGA_FG_A4MT_20020212\n",
      "TCGA_FG_A4MU_20030903\n",
      "TCGA_FG_A60K_20040224\n",
      "TCGA_HT_7473_19970826\n",
      "TCGA_HT_7602_19951103\n",
      "TCGA_HT_7605_19950916\n",
      "TCGA_HT_7608_19940304\n",
      "TCGA_HT_7616_19940813\n",
      "TCGA_HT_7680_19970202\n",
      "TCGA_HT_7684_19950816\n",
      "TCGA_HT_7686_19950629\n",
      "TCGA_HT_7690_19960312\n",
      "TCGA_HT_7692_19960724\n",
      "TCGA_HT_7693_19950520\n",
      "TCGA_HT_7694_19950404\n",
      "TCGA_HT_7855_19951020\n",
      "TCGA_HT_7856_19950831\n",
      "TCGA_HT_7860_19960513\n",
      "TCGA_HT_7874_19950902\n",
      "TCGA_HT_7879_19981009\n",
      "TCGA_HT_7881_19981015\n",
      "TCGA_HT_7882_19970125\n",
      "TCGA_HT_7884_19980913\n",
      "TCGA_HT_8018_19970411\n",
      "TCGA_HT_8105_19980826\n",
      "TCGA_HT_8106_19970727\n",
      "TCGA_HT_8107_19980708\n",
      "TCGA_HT_8111_19980330\n",
      "TCGA_HT_8113_19930809\n",
      "TCGA_HT_8114_19981030\n",
      "TCGA_HT_8563_19981209\n",
      "TCGA_HT_A5RC_19990831\n",
      "TCGA_HT_A616_19991226\n",
      "TCGA_HT_A61A_20000127\n",
      "TCGA_HT_A61B_19991127\n"
     ]
    }
   ],
   "source": [
    "for patient in patients:\n",
    "    print(patient)"
   ]
  },
  {
   "cell_type": "code",
   "execution_count": null,
   "metadata": {},
   "outputs": [],
   "source": []
  },
  {
   "cell_type": "code",
   "execution_count": null,
   "metadata": {},
   "outputs": [],
   "source": []
  },
  {
   "cell_type": "code",
   "execution_count": null,
   "metadata": {},
   "outputs": [],
   "source": [
    "for patient in patients:\n",
    "###\n",
    "x_c = list(np.arange(0, 256, 3))\n",
    "y_c = list(np.arange(0, 256, 3))\n",
    "z_c = list(range(23))\n",
    "\n",
    "###\n",
    "x_c, y_c, z_c = np.meshgrid(x_c, y_c, z_c)\n",
    "x_c = x_c.ravel()\n",
    "y_c = y_c.ravel()\n",
    "z_c = z_c.ravel()\n",
    "\n",
    "###\n",
    "cord = np.array([\n",
    "    (x, y, z, img[x, y, z]) \n",
    "    for x, y, z in zip(x_c, y_c, z_c)\n",
    "    if img[x, y, z] > 0\n",
    "])\n",
    "\n",
    "###\n",
    "cord = pd.DataFrame(cord, columns=[\"x\", \"y\", \"z\", \"val\"])\n",
    "print(cord.shape)\n",
    "cord.head()"
   ]
  },
  {
   "cell_type": "code",
   "execution_count": null,
   "metadata": {},
   "outputs": [],
   "source": []
  },
  {
   "cell_type": "code",
   "execution_count": null,
   "metadata": {},
   "outputs": [],
   "source": []
  },
  {
   "cell_type": "code",
   "execution_count": null,
   "metadata": {},
   "outputs": [],
   "source": []
  },
  {
   "cell_type": "code",
   "execution_count": null,
   "metadata": {},
   "outputs": [],
   "source": []
  },
  {
   "cell_type": "code",
   "execution_count": null,
   "metadata": {},
   "outputs": [],
   "source": []
  }
 ],
 "metadata": {
  "kernelspec": {
   "display_name": "Python 3",
   "language": "python",
   "name": "python3"
  },
  "language_info": {
   "codemirror_mode": {
    "name": "ipython",
    "version": 3
   },
   "file_extension": ".py",
   "mimetype": "text/x-python",
   "name": "python",
   "nbconvert_exporter": "python",
   "pygments_lexer": "ipython3",
   "version": "3.6.5"
  }
 },
 "nbformat": 4,
 "nbformat_minor": 2
}
