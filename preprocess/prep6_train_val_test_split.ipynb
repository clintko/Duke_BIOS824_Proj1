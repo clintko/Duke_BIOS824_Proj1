{
 "cells": [
  {
   "cell_type": "markdown",
   "metadata": {},
   "source": [
    "# Set enviroment"
   ]
  },
  {
   "cell_type": "code",
   "execution_count": 4,
   "metadata": {},
   "outputs": [],
   "source": [
    "import numpy as np\n",
    "import pandas as pd\n",
    "import os, re\n",
    "import pickle\n",
    "from   numba import jit, njit\n",
    "import matplotlib.pyplot as plt\n",
    "import matplotlib as mpl\n",
    "\n",
    "##############################################################\n",
    "FP_LGG = \"/data/Duke_BIOS824/LGG-segmentation/\"\n",
    "FP_OUT = \"/data/Duke_BIOS824/res_proj01/\"\n",
    "FP_FIG = \"/home/clint/GitRepo/Duke_BIOS824_Proj1/fig/\"\n",
    "patients = [x for x in os.listdir(FP_LGG) if \"TCGA\" in x]    "
   ]
  },
  {
   "cell_type": "markdown",
   "metadata": {},
   "source": [
    "# Load Data"
   ]
  },
  {
   "cell_type": "code",
   "execution_count": 5,
   "metadata": {},
   "outputs": [
    {
     "name": "stdout",
     "output_type": "stream",
     "text": [
      "df_img_area_perimeter.csv  img_slice.pickle  label_split.csv\r\n",
      "img_mask.pickle\t\t   label.csv\r\n"
     ]
    }
   ],
   "source": [
    "!ls /data/Duke_BIOS824/res_proj01/"
   ]
  },
  {
   "cell_type": "code",
   "execution_count": 6,
   "metadata": {},
   "outputs": [
    {
     "data": {
      "text/html": [
       "<div>\n",
       "<style scoped>\n",
       "    .dataframe tbody tr th:only-of-type {\n",
       "        vertical-align: middle;\n",
       "    }\n",
       "\n",
       "    .dataframe tbody tr th {\n",
       "        vertical-align: top;\n",
       "    }\n",
       "\n",
       "    .dataframe thead th {\n",
       "        text-align: right;\n",
       "    }\n",
       "</style>\n",
       "<table border=\"1\" class=\"dataframe\">\n",
       "  <thead>\n",
       "    <tr style=\"text-align: right;\">\n",
       "      <th></th>\n",
       "      <th>Patient</th>\n",
       "      <th>COCCluster</th>\n",
       "      <th>neoplasm_histologic_grade</th>\n",
       "      <th>cv01</th>\n",
       "      <th>cv02</th>\n",
       "      <th>cv03</th>\n",
       "      <th>cv04</th>\n",
       "      <th>cv05</th>\n",
       "      <th>cv06</th>\n",
       "      <th>cv07</th>\n",
       "      <th>cv08</th>\n",
       "      <th>cv09</th>\n",
       "      <th>cv10</th>\n",
       "    </tr>\n",
       "  </thead>\n",
       "  <tbody>\n",
       "    <tr>\n",
       "      <th>0</th>\n",
       "      <td>TCGA_CS_4941</td>\n",
       "      <td>2</td>\n",
       "      <td>2.0</td>\n",
       "      <td>train</td>\n",
       "      <td>train</td>\n",
       "      <td>train</td>\n",
       "      <td>train</td>\n",
       "      <td>train</td>\n",
       "      <td>val</td>\n",
       "      <td>train</td>\n",
       "      <td>train</td>\n",
       "      <td>train</td>\n",
       "      <td>train</td>\n",
       "    </tr>\n",
       "    <tr>\n",
       "      <th>1</th>\n",
       "      <td>TCGA_CS_4942</td>\n",
       "      <td>1</td>\n",
       "      <td>2.0</td>\n",
       "      <td>train</td>\n",
       "      <td>train</td>\n",
       "      <td>val</td>\n",
       "      <td>train</td>\n",
       "      <td>train</td>\n",
       "      <td>train</td>\n",
       "      <td>train</td>\n",
       "      <td>train</td>\n",
       "      <td>train</td>\n",
       "      <td>train</td>\n",
       "    </tr>\n",
       "    <tr>\n",
       "      <th>2</th>\n",
       "      <td>TCGA_CS_4943</td>\n",
       "      <td>1</td>\n",
       "      <td>2.0</td>\n",
       "      <td>train</td>\n",
       "      <td>train</td>\n",
       "      <td>train</td>\n",
       "      <td>train</td>\n",
       "      <td>train</td>\n",
       "      <td>train</td>\n",
       "      <td>train</td>\n",
       "      <td>train</td>\n",
       "      <td>val</td>\n",
       "      <td>train</td>\n",
       "    </tr>\n",
       "  </tbody>\n",
       "</table>\n",
       "</div>"
      ],
      "text/plain": [
       "        Patient  COCCluster  neoplasm_histologic_grade   cv01   cv02   cv03  \\\n",
       "0  TCGA_CS_4941           2                        2.0  train  train  train   \n",
       "1  TCGA_CS_4942           1                        2.0  train  train    val   \n",
       "2  TCGA_CS_4943           1                        2.0  train  train  train   \n",
       "\n",
       "    cv04   cv05   cv06   cv07   cv08   cv09   cv10  \n",
       "0  train  train    val  train  train  train  train  \n",
       "1  train  train  train  train  train  train  train  \n",
       "2  train  train  train  train  train    val  train  "
      ]
     },
     "execution_count": 6,
     "metadata": {},
     "output_type": "execute_result"
    }
   ],
   "source": [
    "fp = FP_OUT + \"label_split.csv\"\n",
    "labels = pd.read_csv(fp)\n",
    "labels.head(3)"
   ]
  },
  {
   "cell_type": "code",
   "execution_count": 8,
   "metadata": {},
   "outputs": [],
   "source": [
    "fp = open(FP_OUT + 'img_slice.pickle', 'rb')\n",
    "img_slice = pickle.load(fp)\n",
    "fp.close()"
   ]
  },
  {
   "cell_type": "code",
   "execution_count": 9,
   "metadata": {},
   "outputs": [],
   "source": [
    "fp = open(FP_OUT + 'img_mask.pickle', 'rb')\n",
    "img_mask = pickle.load(fp)\n",
    "fp.close()"
   ]
  },
  {
   "cell_type": "markdown",
   "metadata": {},
   "source": [
    "# 3D"
   ]
  },
  {
   "cell_type": "code",
   "execution_count": null,
   "metadata": {},
   "outputs": [],
   "source": []
  },
  {
   "cell_type": "code",
   "execution_count": null,
   "metadata": {},
   "outputs": [],
   "source": []
  },
  {
   "cell_type": "code",
   "execution_count": null,
   "metadata": {},
   "outputs": [],
   "source": []
  },
  {
   "cell_type": "code",
   "execution_count": null,
   "metadata": {},
   "outputs": [],
   "source": []
  },
  {
   "cell_type": "code",
   "execution_count": null,
   "metadata": {},
   "outputs": [],
   "source": []
  },
  {
   "cell_type": "code",
   "execution_count": null,
   "metadata": {},
   "outputs": [],
   "source": []
  }
 ],
 "metadata": {
  "kernelspec": {
   "display_name": "Python 3",
   "language": "python",
   "name": "python3"
  },
  "language_info": {
   "codemirror_mode": {
    "name": "ipython",
    "version": 3
   },
   "file_extension": ".py",
   "mimetype": "text/x-python",
   "name": "python",
   "nbconvert_exporter": "python",
   "pygments_lexer": "ipython3",
   "version": "3.6.5"
  }
 },
 "nbformat": 4,
 "nbformat_minor": 2
}
