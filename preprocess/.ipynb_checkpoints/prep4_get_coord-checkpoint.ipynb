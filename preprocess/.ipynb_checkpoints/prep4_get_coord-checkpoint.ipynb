{
 "cells": [
  {
   "cell_type": "code",
   "execution_count": 1,
   "metadata": {},
   "outputs": [],
   "source": [
    "##############################################################\n",
    "import numpy as np\n",
    "import pandas as pd\n",
    "import os, re\n",
    "import pickle\n",
    "import matplotlib.pyplot as plt\n",
    "\n",
    "##############################################################\n",
    "def get_fname(patient, is_mask = False):\n",
    "    fpath = os.path.join(FP_LGG, patient)\n",
    "    if is_mask:\n",
    "        pattern = \"_([^_]*)_mask.tif$\"\n",
    "        fname = np.array([x for x in os.listdir(fpath) if \"mask\" in x])\n",
    "    else:\n",
    "        pattern = \"_([^_]*).tif$\"\n",
    "        fname = np.array([x for x in os.listdir(fpath) if \"mask\" not in x])\n",
    "    index = np.array([int(re.findall(pattern, x)[0]) for x in fname])\n",
    "    idx = np.argsort(index)\n",
    "    return fname[idx]\n",
    "\n",
    "def reaxes_img(img):\n",
    "    img = img.copy()\n",
    "    img = np.swapaxes(img,0,1)\n",
    "    img = np.swapaxes(img,1,2)\n",
    "    return img\n",
    "##############################################################\n",
    "FP_OUT = \"/data/Duke_BIOS824/res_proj01/\"\n",
    "FP_OUT_COORD = \"/data/Duke_BIOS824/res_proj01/coord/\"\n",
    "FP_LGG = \"/data/Duke_BIOS824/LGG-segmentation/\"\n",
    "patients = [x for x in os.listdir(FP_LGG) if \"TCGA\" in x]    "
   ]
  },
  {
   "cell_type": "code",
   "execution_count": 2,
   "metadata": {},
   "outputs": [],
   "source": [
    "with open(FP_OUT + 'img_slice.pickle', 'rb') as fp:\n",
    "    img_slice = pickle.load(fp)\n",
    "fp.close()\n",
    "\n",
    "with open(FP_OUT + 'img_mask.pickle', 'rb') as fp:\n",
    "    img_mask  = pickle.load(fp)\n",
    "fp.close()"
   ]
  },
  {
   "cell_type": "markdown",
   "metadata": {},
   "source": [
    "check the import files"
   ]
  },
  {
   "cell_type": "code",
   "execution_count": 3,
   "metadata": {},
   "outputs": [
    {
     "data": {
      "text/plain": [
       "110"
      ]
     },
     "execution_count": 3,
     "metadata": {},
     "output_type": "execute_result"
    }
   ],
   "source": [
    "len(img_slice)"
   ]
  },
  {
   "cell_type": "code",
   "execution_count": 4,
   "metadata": {},
   "outputs": [
    {
     "data": {
      "text/plain": [
       "(256, 256, 23, 3)"
      ]
     },
     "execution_count": 4,
     "metadata": {},
     "output_type": "execute_result"
    }
   ],
   "source": [
    "patient = patients[0]\n",
    "img_slice[patient].shape"
   ]
  },
  {
   "cell_type": "code",
   "execution_count": 5,
   "metadata": {},
   "outputs": [
    {
     "data": {
      "text/plain": [
       "(256, 256, 23)"
      ]
     },
     "execution_count": 5,
     "metadata": {},
     "output_type": "execute_result"
    }
   ],
   "source": [
    "patient = patients[0]\n",
    "img_mask[patient].shape"
   ]
  },
  {
   "cell_type": "markdown",
   "metadata": {},
   "source": [
    "# generate coordinates from mask"
   ]
  },
  {
   "cell_type": "code",
   "execution_count": 6,
   "metadata": {},
   "outputs": [],
   "source": [
    "def get_coord(img, tol = 1e-5):\n",
    "    \"\"\"...\"\"\"\n",
    "    ###\n",
    "    xc = np.arange(img.shape[0])\n",
    "    yc = np.arange(img.shape[1])\n",
    "    zc = np.arange(img.shape[2])\n",
    "    \n",
    "    ###\n",
    "    xc, yc, zc = np.meshgrid(xc, yc, zc)\n",
    "    xc = xc.ravel()\n",
    "    yc = yc.ravel()   \n",
    "    zc = zc.ravel()\n",
    "    \n",
    "    ###\n",
    "    cord = np.array([\n",
    "        (x, y, z, img[x, y, z]) \n",
    "        for x, y, z in zip(xc, yc, zc)\n",
    "        if img[x, y, z] > tol\n",
    "    ])\n",
    "    cord = pd.DataFrame(cord, columns=[\"x\", \"y\", \"z\", \"val\"])\n",
    "    return cord"
   ]
  },
  {
   "cell_type": "markdown",
   "metadata": {},
   "source": [
    "test run"
   ]
  },
  {
   "cell_type": "code",
   "execution_count": 7,
   "metadata": {},
   "outputs": [
    {
     "name": "stdout",
     "output_type": "stream",
     "text": [
      "TCGA_CS_4941_19960909\n",
      "(14379, 4)\n",
      "(84208, 4)\n"
     ]
    }
   ],
   "source": [
    "###\n",
    "pat = patients[0]\n",
    "print(pat)\n",
    "\n",
    "###\n",
    "cord1 = get_coord(img_mask[pat])\n",
    "\n",
    "###\n",
    "slices = img_slice[pat]\n",
    "slices = slices.mean(axis = 3)\n",
    "cord2 = get_coord(slices, tol=100)\n",
    "\n",
    "###\n",
    "print(cord1.shape)\n",
    "print(cord2.shape)"
   ]
  },
  {
   "cell_type": "code",
   "execution_count": 8,
   "metadata": {},
   "outputs": [
    {
     "name": "stdout",
     "output_type": "stream",
     "text": [
      "/data/Duke_BIOS824/res_proj01/coord/coord/TCGA_CS_4941_19960909_slice.csv\n",
      "/data/Duke_BIOS824/res_proj01/coord/coord/TCGA_CS_4941_19960909_mask.csv\n"
     ]
    }
   ],
   "source": [
    "print(FP_OUT_COORD + \"coord/\" + patient + \"_slice.csv\")\n",
    "print(FP_OUT_COORD + \"coord/\" + patient + \"_mask.csv\")"
   ]
  },
  {
   "cell_type": "markdown",
   "metadata": {},
   "source": [
    "get coord for all patients"
   ]
  },
  {
   "cell_type": "code",
   "execution_count": 9,
   "metadata": {},
   "outputs": [
    {
     "name": "stdout",
     "output_type": "stream",
     "text": [
      "TCGA_CS_4941_19960909\n",
      "TCGA_CS_4942_19970222\n",
      "TCGA_CS_4943_20000902\n",
      "TCGA_CS_4944_20010208\n",
      "TCGA_CS_5393_19990606\n",
      "TCGA_CS_5395_19981004\n",
      "TCGA_CS_5396_20010302\n",
      "TCGA_CS_5397_20010315\n",
      "TCGA_CS_6186_20000601\n",
      "TCGA_CS_6188_20010812\n",
      "TCGA_CS_6290_20000917\n",
      "TCGA_CS_6665_20010817\n",
      "TCGA_CS_6666_20011109\n",
      "TCGA_CS_6668_20011025\n",
      "TCGA_CS_6669_20020102\n",
      "TCGA_DU_5849_19950405\n",
      "TCGA_DU_5851_19950428\n",
      "TCGA_DU_5852_19950709\n",
      "TCGA_DU_5853_19950823\n",
      "TCGA_DU_5854_19951104\n",
      "TCGA_DU_5855_19951217\n",
      "TCGA_DU_5871_19941206\n",
      "TCGA_DU_5872_19950223\n",
      "TCGA_DU_5874_19950510\n",
      "TCGA_DU_6399_19830416\n",
      "TCGA_DU_6400_19830518\n",
      "TCGA_DU_6401_19831001\n",
      "TCGA_DU_6404_19850629\n",
      "TCGA_DU_6407_19860514\n",
      "TCGA_DU_6408_19860521\n",
      "TCGA_DU_7008_19830723\n",
      "TCGA_DU_7010_19860307\n",
      "TCGA_DU_7013_19860523\n",
      "TCGA_DU_7014_19860618\n",
      "TCGA_DU_7018_19911220\n",
      "TCGA_DU_7019_19940908\n",
      "TCGA_DU_7294_19890104\n",
      "TCGA_DU_7298_19910324\n",
      "TCGA_DU_7299_19910417\n",
      "TCGA_DU_7300_19910814\n",
      "TCGA_DU_7301_19911112\n",
      "TCGA_DU_7302_19911203\n",
      "TCGA_DU_7304_19930325\n",
      "TCGA_DU_7309_19960831\n",
      "TCGA_DU_8162_19961029\n",
      "TCGA_DU_8163_19961119\n",
      "TCGA_DU_8164_19970111\n",
      "TCGA_DU_8165_19970205\n",
      "TCGA_DU_8166_19970322\n",
      "TCGA_DU_8167_19970402\n",
      "TCGA_DU_8168_19970503\n",
      "TCGA_DU_A5TP_19970614\n",
      "TCGA_DU_A5TR_19970726\n",
      "TCGA_DU_A5TS_19970726\n",
      "TCGA_DU_A5TT_19980318\n",
      "TCGA_DU_A5TU_19980312\n",
      "TCGA_DU_A5TW_19980228\n",
      "TCGA_DU_A5TY_19970709\n",
      "TCGA_CS_6667_20011105\n",
      "TCGA_DU_6405_19851005\n",
      "TCGA_DU_7306_19930512\n",
      "TCGA_EZ_7264_20010816\n",
      "TCGA_HT_7475_19970918\n",
      "TCGA_HT_7877_19980917\n",
      "TCGA_FG_5962_20000626\n",
      "TCGA_FG_5964_20010511\n",
      "TCGA_FG_6688_20020215\n",
      "TCGA_FG_6689_20020326\n",
      "TCGA_FG_6690_20020226\n",
      "TCGA_FG_6691_20020405\n",
      "TCGA_FG_6692_20020606\n",
      "TCGA_FG_7634_20000128\n",
      "TCGA_FG_7637_20000922\n",
      "TCGA_FG_7643_20021104\n",
      "TCGA_FG_8189_20030516\n",
      "TCGA_FG_A4MT_20020212\n",
      "TCGA_FG_A4MU_20030903\n",
      "TCGA_FG_A60K_20040224\n",
      "TCGA_HT_7473_19970826\n",
      "TCGA_HT_7602_19951103\n",
      "TCGA_HT_7605_19950916\n",
      "TCGA_HT_7608_19940304\n",
      "TCGA_HT_7616_19940813\n",
      "TCGA_HT_7680_19970202\n",
      "TCGA_HT_7684_19950816\n",
      "TCGA_HT_7686_19950629\n",
      "TCGA_HT_7690_19960312\n",
      "TCGA_HT_7692_19960724\n",
      "TCGA_HT_7693_19950520\n",
      "TCGA_HT_7694_19950404\n",
      "TCGA_HT_7855_19951020\n",
      "TCGA_HT_7856_19950831\n",
      "TCGA_HT_7860_19960513\n",
      "TCGA_HT_7874_19950902\n",
      "TCGA_HT_7879_19981009\n",
      "TCGA_HT_7881_19981015\n",
      "TCGA_HT_7882_19970125\n",
      "TCGA_HT_7884_19980913\n",
      "TCGA_HT_8018_19970411\n",
      "TCGA_HT_8105_19980826\n",
      "TCGA_HT_8106_19970727\n",
      "TCGA_HT_8107_19980708\n",
      "TCGA_HT_8111_19980330\n",
      "TCGA_HT_8113_19930809\n",
      "TCGA_HT_8114_19981030\n",
      "TCGA_HT_8563_19981209\n",
      "TCGA_HT_A5RC_19990831\n",
      "TCGA_HT_A616_19991226\n",
      "TCGA_HT_A61A_20000127\n",
      "TCGA_HT_A61B_19991127\n"
     ]
    }
   ],
   "source": [
    "for patient in patients:\n",
    "    print(patient)\n",
    "    \n",
    "    ###\n",
    "    img  = img_mask[patient]\n",
    "    cord = get_coord(img)\n",
    "    fp   = FP_OUT_COORD + patient + \"_mask.csv\"\n",
    "    cord.to_csv(fp, index=False)\n",
    "    \n",
    "    ###\n",
    "    img  = img_slice[patient].mean(axis = 3)\n",
    "    cord = get_coord(img, tol=100)\n",
    "    fp   = FP_OUT_COORD + patient + \"_slice.csv\"\n",
    "    cord.to_csv(fp, index=False)"
   ]
  },
  {
   "cell_type": "code",
   "execution_count": 11,
   "metadata": {},
   "outputs": [
    {
     "name": "stdout",
     "output_type": "stream",
     "text": [
      "TCGA_CS_4941_19960909_mask.csv\t TCGA_DU_A5TR_19970726_mask.csv\r\n",
      "TCGA_CS_4941_19960909_slice.csv  TCGA_DU_A5TR_19970726_slice.csv\r\n",
      "TCGA_CS_4942_19970222_mask.csv\t TCGA_DU_A5TS_19970726_mask.csv\r\n",
      "TCGA_CS_4942_19970222_slice.csv  TCGA_DU_A5TS_19970726_slice.csv\r\n",
      "TCGA_CS_4943_20000902_mask.csv\t TCGA_DU_A5TT_19980318_mask.csv\r\n",
      "TCGA_CS_4943_20000902_slice.csv  TCGA_DU_A5TT_19980318_slice.csv\r\n",
      "TCGA_CS_4944_20010208_mask.csv\t TCGA_DU_A5TU_19980312_mask.csv\r\n",
      "TCGA_CS_4944_20010208_slice.csv  TCGA_DU_A5TU_19980312_slice.csv\r\n",
      "TCGA_CS_5393_19990606_mask.csv\t TCGA_DU_A5TW_19980228_mask.csv\r\n",
      "TCGA_CS_5393_19990606_slice.csv  TCGA_DU_A5TW_19980228_slice.csv\r\n",
      "TCGA_CS_5395_19981004_mask.csv\t TCGA_DU_A5TY_19970709_mask.csv\r\n",
      "TCGA_CS_5395_19981004_slice.csv  TCGA_DU_A5TY_19970709_slice.csv\r\n",
      "TCGA_CS_5396_20010302_mask.csv\t TCGA_EZ_7264_20010816_mask.csv\r\n",
      "TCGA_CS_5396_20010302_slice.csv  TCGA_EZ_7264_20010816_slice.csv\r\n",
      "TCGA_CS_5397_20010315_mask.csv\t TCGA_FG_5962_20000626_mask.csv\r\n",
      "TCGA_CS_5397_20010315_slice.csv  TCGA_FG_5962_20000626_slice.csv\r\n",
      "TCGA_CS_6186_20000601_mask.csv\t TCGA_FG_5964_20010511_mask.csv\r\n",
      "TCGA_CS_6186_20000601_slice.csv  TCGA_FG_5964_20010511_slice.csv\r\n",
      "TCGA_CS_6188_20010812_mask.csv\t TCGA_FG_6688_20020215_mask.csv\r\n",
      "TCGA_CS_6188_20010812_slice.csv  TCGA_FG_6688_20020215_slice.csv\r\n",
      "TCGA_CS_6290_20000917_mask.csv\t TCGA_FG_6689_20020326_mask.csv\r\n",
      "TCGA_CS_6290_20000917_slice.csv  TCGA_FG_6689_20020326_slice.csv\r\n",
      "TCGA_CS_6665_20010817_mask.csv\t TCGA_FG_6690_20020226_mask.csv\r\n",
      "TCGA_CS_6665_20010817_slice.csv  TCGA_FG_6690_20020226_slice.csv\r\n",
      "TCGA_CS_6666_20011109_mask.csv\t TCGA_FG_6691_20020405_mask.csv\r\n",
      "TCGA_CS_6666_20011109_slice.csv  TCGA_FG_6691_20020405_slice.csv\r\n",
      "TCGA_CS_6667_20011105_mask.csv\t TCGA_FG_6692_20020606_mask.csv\r\n",
      "TCGA_CS_6667_20011105_slice.csv  TCGA_FG_6692_20020606_slice.csv\r\n",
      "TCGA_CS_6668_20011025_mask.csv\t TCGA_FG_7634_20000128_mask.csv\r\n",
      "TCGA_CS_6668_20011025_slice.csv  TCGA_FG_7634_20000128_slice.csv\r\n",
      "TCGA_CS_6669_20020102_mask.csv\t TCGA_FG_7637_20000922_mask.csv\r\n",
      "TCGA_CS_6669_20020102_slice.csv  TCGA_FG_7637_20000922_slice.csv\r\n",
      "TCGA_DU_5849_19950405_mask.csv\t TCGA_FG_7643_20021104_mask.csv\r\n",
      "TCGA_DU_5849_19950405_slice.csv  TCGA_FG_7643_20021104_slice.csv\r\n",
      "TCGA_DU_5851_19950428_mask.csv\t TCGA_FG_8189_20030516_mask.csv\r\n",
      "TCGA_DU_5851_19950428_slice.csv  TCGA_FG_8189_20030516_slice.csv\r\n",
      "TCGA_DU_5852_19950709_mask.csv\t TCGA_FG_A4MT_20020212_mask.csv\r\n",
      "TCGA_DU_5852_19950709_slice.csv  TCGA_FG_A4MT_20020212_slice.csv\r\n",
      "TCGA_DU_5853_19950823_mask.csv\t TCGA_FG_A4MU_20030903_mask.csv\r\n",
      "TCGA_DU_5853_19950823_slice.csv  TCGA_FG_A4MU_20030903_slice.csv\r\n",
      "TCGA_DU_5854_19951104_mask.csv\t TCGA_FG_A60K_20040224_mask.csv\r\n",
      "TCGA_DU_5854_19951104_slice.csv  TCGA_FG_A60K_20040224_slice.csv\r\n",
      "TCGA_DU_5855_19951217_mask.csv\t TCGA_HT_7473_19970826_mask.csv\r\n",
      "TCGA_DU_5855_19951217_slice.csv  TCGA_HT_7473_19970826_slice.csv\r\n",
      "TCGA_DU_5871_19941206_mask.csv\t TCGA_HT_7475_19970918_mask.csv\r\n",
      "TCGA_DU_5871_19941206_slice.csv  TCGA_HT_7475_19970918_slice.csv\r\n",
      "TCGA_DU_5872_19950223_mask.csv\t TCGA_HT_7602_19951103_mask.csv\r\n",
      "TCGA_DU_5872_19950223_slice.csv  TCGA_HT_7602_19951103_slice.csv\r\n",
      "TCGA_DU_5874_19950510_mask.csv\t TCGA_HT_7605_19950916_mask.csv\r\n",
      "TCGA_DU_5874_19950510_slice.csv  TCGA_HT_7605_19950916_slice.csv\r\n",
      "TCGA_DU_6399_19830416_mask.csv\t TCGA_HT_7608_19940304_mask.csv\r\n",
      "TCGA_DU_6399_19830416_slice.csv  TCGA_HT_7608_19940304_slice.csv\r\n",
      "TCGA_DU_6400_19830518_mask.csv\t TCGA_HT_7616_19940813_mask.csv\r\n",
      "TCGA_DU_6400_19830518_slice.csv  TCGA_HT_7616_19940813_slice.csv\r\n",
      "TCGA_DU_6401_19831001_mask.csv\t TCGA_HT_7680_19970202_mask.csv\r\n",
      "TCGA_DU_6401_19831001_slice.csv  TCGA_HT_7680_19970202_slice.csv\r\n",
      "TCGA_DU_6404_19850629_mask.csv\t TCGA_HT_7684_19950816_mask.csv\r\n",
      "TCGA_DU_6404_19850629_slice.csv  TCGA_HT_7684_19950816_slice.csv\r\n",
      "TCGA_DU_6405_19851005_mask.csv\t TCGA_HT_7686_19950629_mask.csv\r\n",
      "TCGA_DU_6405_19851005_slice.csv  TCGA_HT_7686_19950629_slice.csv\r\n",
      "TCGA_DU_6407_19860514_mask.csv\t TCGA_HT_7690_19960312_mask.csv\r\n",
      "TCGA_DU_6407_19860514_slice.csv  TCGA_HT_7690_19960312_slice.csv\r\n",
      "TCGA_DU_6408_19860521_mask.csv\t TCGA_HT_7692_19960724_mask.csv\r\n",
      "TCGA_DU_6408_19860521_slice.csv  TCGA_HT_7692_19960724_slice.csv\r\n",
      "TCGA_DU_7008_19830723_mask.csv\t TCGA_HT_7693_19950520_mask.csv\r\n",
      "TCGA_DU_7008_19830723_slice.csv  TCGA_HT_7693_19950520_slice.csv\r\n",
      "TCGA_DU_7010_19860307_mask.csv\t TCGA_HT_7694_19950404_mask.csv\r\n",
      "TCGA_DU_7010_19860307_slice.csv  TCGA_HT_7694_19950404_slice.csv\r\n",
      "TCGA_DU_7013_19860523_mask.csv\t TCGA_HT_7855_19951020_mask.csv\r\n",
      "TCGA_DU_7013_19860523_slice.csv  TCGA_HT_7855_19951020_slice.csv\r\n",
      "TCGA_DU_7014_19860618_mask.csv\t TCGA_HT_7856_19950831_mask.csv\r\n",
      "TCGA_DU_7014_19860618_slice.csv  TCGA_HT_7856_19950831_slice.csv\r\n",
      "TCGA_DU_7018_19911220_mask.csv\t TCGA_HT_7860_19960513_mask.csv\r\n",
      "TCGA_DU_7018_19911220_slice.csv  TCGA_HT_7860_19960513_slice.csv\r\n",
      "TCGA_DU_7019_19940908_mask.csv\t TCGA_HT_7874_19950902_mask.csv\r\n",
      "TCGA_DU_7019_19940908_slice.csv  TCGA_HT_7874_19950902_slice.csv\r\n",
      "TCGA_DU_7294_19890104_mask.csv\t TCGA_HT_7877_19980917_mask.csv\r\n",
      "TCGA_DU_7294_19890104_slice.csv  TCGA_HT_7877_19980917_slice.csv\r\n",
      "TCGA_DU_7298_19910324_mask.csv\t TCGA_HT_7879_19981009_mask.csv\r\n",
      "TCGA_DU_7298_19910324_slice.csv  TCGA_HT_7879_19981009_slice.csv\r\n",
      "TCGA_DU_7299_19910417_mask.csv\t TCGA_HT_7881_19981015_mask.csv\r\n",
      "TCGA_DU_7299_19910417_slice.csv  TCGA_HT_7881_19981015_slice.csv\r\n",
      "TCGA_DU_7300_19910814_mask.csv\t TCGA_HT_7882_19970125_mask.csv\r\n",
      "TCGA_DU_7300_19910814_slice.csv  TCGA_HT_7882_19970125_slice.csv\r\n",
      "TCGA_DU_7301_19911112_mask.csv\t TCGA_HT_7884_19980913_mask.csv\r\n",
      "TCGA_DU_7301_19911112_slice.csv  TCGA_HT_7884_19980913_slice.csv\r\n",
      "TCGA_DU_7302_19911203_mask.csv\t TCGA_HT_8018_19970411_mask.csv\r\n",
      "TCGA_DU_7302_19911203_slice.csv  TCGA_HT_8018_19970411_slice.csv\r\n",
      "TCGA_DU_7304_19930325_mask.csv\t TCGA_HT_8105_19980826_mask.csv\r\n",
      "TCGA_DU_7304_19930325_slice.csv  TCGA_HT_8105_19980826_slice.csv\r\n",
      "TCGA_DU_7306_19930512_mask.csv\t TCGA_HT_8106_19970727_mask.csv\r\n",
      "TCGA_DU_7306_19930512_slice.csv  TCGA_HT_8106_19970727_slice.csv\r\n",
      "TCGA_DU_7309_19960831_mask.csv\t TCGA_HT_8107_19980708_mask.csv\r\n",
      "TCGA_DU_7309_19960831_slice.csv  TCGA_HT_8107_19980708_slice.csv\r\n",
      "TCGA_DU_8162_19961029_mask.csv\t TCGA_HT_8111_19980330_mask.csv\r\n",
      "TCGA_DU_8162_19961029_slice.csv  TCGA_HT_8111_19980330_slice.csv\r\n",
      "TCGA_DU_8163_19961119_mask.csv\t TCGA_HT_8113_19930809_mask.csv\r\n",
      "TCGA_DU_8163_19961119_slice.csv  TCGA_HT_8113_19930809_slice.csv\r\n",
      "TCGA_DU_8164_19970111_mask.csv\t TCGA_HT_8114_19981030_mask.csv\r\n",
      "TCGA_DU_8164_19970111_slice.csv  TCGA_HT_8114_19981030_slice.csv\r\n",
      "TCGA_DU_8165_19970205_mask.csv\t TCGA_HT_8563_19981209_mask.csv\r\n",
      "TCGA_DU_8165_19970205_slice.csv  TCGA_HT_8563_19981209_slice.csv\r\n",
      "TCGA_DU_8166_19970322_mask.csv\t TCGA_HT_A5RC_19990831_mask.csv\r\n",
      "TCGA_DU_8166_19970322_slice.csv  TCGA_HT_A5RC_19990831_slice.csv\r\n",
      "TCGA_DU_8167_19970402_mask.csv\t TCGA_HT_A616_19991226_mask.csv\r\n",
      "TCGA_DU_8167_19970402_slice.csv  TCGA_HT_A616_19991226_slice.csv\r\n",
      "TCGA_DU_8168_19970503_mask.csv\t TCGA_HT_A61A_20000127_mask.csv\r\n",
      "TCGA_DU_8168_19970503_slice.csv  TCGA_HT_A61A_20000127_slice.csv\r\n",
      "TCGA_DU_A5TP_19970614_mask.csv\t TCGA_HT_A61B_19991127_mask.csv\r\n",
      "TCGA_DU_A5TP_19970614_slice.csv  TCGA_HT_A61B_19991127_slice.csv\r\n"
     ]
    }
   ],
   "source": [
    "!ls /data/Duke_BIOS824/res_proj01/coord"
   ]
  }
 ],
 "metadata": {
  "kernelspec": {
   "display_name": "Python 3",
   "language": "python",
   "name": "python3"
  },
  "language_info": {
   "codemirror_mode": {
    "name": "ipython",
    "version": 3
   },
   "file_extension": ".py",
   "mimetype": "text/x-python",
   "name": "python",
   "nbconvert_exporter": "python",
   "pygments_lexer": "ipython3",
   "version": "3.6.5"
  }
 },
 "nbformat": 4,
 "nbformat_minor": 2
}
